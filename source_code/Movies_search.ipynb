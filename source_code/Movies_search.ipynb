{
 "cells": [
  {
   "cell_type": "code",
   "execution_count": 79,
   "metadata": {},
   "outputs": [
    {
     "name": "stdout",
     "output_type": "stream",
     "text": [
      "Scraping successful\n",
      "csv created\n"
     ]
    }
   ],
   "source": [
    "from bs4 import BeautifulSoup\n",
    "from selenium import webdriver\n",
    "from selenium.webdriver.common.keys import Keys\n",
    "from selenium.webdriver.common.by import By\n",
    "from itertools import zip_longest\n",
    "import csv\n",
    "import time\n",
    "\n",
    "class MoviesSearch():\n",
    "    \n",
    "    # Función que realiza una búsqueda en FilmAffinity y devulve informacióno acerca de las películas encontradas\n",
    "    def search_movie_info (location, keyword):\n",
    "\n",
    "        url = \"http://www.filmaffinity.com/uk/\"\n",
    "        \n",
    "        # Declaramos una lista para cada elemento de información que deseamos obtener sobre cada película\n",
    "        titles= []\n",
    "        ratings = []\n",
    "        directors = []\n",
    "        actors = []\n",
    "\n",
    "        chrome_options = webdriver.ChromeOptions()\n",
    "\n",
    "        driver = webdriver.Chrome(location)\n",
    "        driver.get(url)\n",
    "\n",
    "        driver.find_element_by_id('top-search-input').send_keys(keyword)\n",
    "\n",
    "        driver.find_element_by_id('button-search').click()\n",
    "        see_button = driver.find_element_by_class_name('see-all-button')\n",
    "        driver.execute_script(\"arguments[0].click();\", see_button)\n",
    "\n",
    "        driver.implicitly_wait(30)\n",
    "\n",
    "        table =  driver.find_element_by_css_selector('#main-content-table')\n",
    "\n",
    "        # Obtenemos la información de interés que está en una tabla. \n",
    "        # Recorremos la tabla extrayendo la información deseada y almacenándola en las listas creadas anteriormente\n",
    "        for row in table.find_elements_by_css_selector('#mt-content-cell > div.main-search-wrapper > div.z-search'):\n",
    "    \n",
    "            for cell in row.find_elements_by_class_name('mc-info-container'):\n",
    "                \n",
    "                # Extraemos el título \n",
    "                title = cell.find_element_by_class_name('mc-title').text\n",
    "                titles.append(title)\n",
    "                \n",
    "                # Extraemos la valoración\n",
    "                rating = cell.find_element_by_class_name('avgrat-box').text\n",
    "                ratings.append(rating)\n",
    "                \n",
    "                # Extraemos el director \n",
    "                director = cell.find_element_by_class_name('mc-director').text\n",
    "                directors.append(director)\n",
    "                \n",
    "                # Extraemos el reparto\n",
    "                actor = cell.find_element_by_class_name('mc-cast').text\n",
    "                actors.append(actor)\n",
    "\n",
    "        # Declaramos una lista que contiene las listas creadas anteriormente y modificamos su formato para exportarla a csv\n",
    "        info = [titles, ratings, directors, actors]\n",
    "        export_data = zip_longest(*info, fillvalue= '')\n",
    "\n",
    "        print ('Scraping successful')\n",
    "        return export_data\n",
    "    \n",
    "    # Función que exporta la información de nuestro scraper a un archivo csv\n",
    "    def data2csv (export_data):\n",
    "        \n",
    "        with open ('movie_search.csv', 'w', newline = '') as r:\n",
    "            wr = csv.writer(r)\n",
    "            wr.writerow(('Name', 'Rating', 'Director', 'Cast'))\n",
    "            wr.writerows(export_data)\n",
    "        r.close()\n",
    "        \n",
    "        print ('csv created')\n",
    "        \n",
    "# Para ejecutar el scraper, ejecutamos las funciones creadas anteriormente \n",
    "# Como ejemplo hemos utilizado la palabra clave 'godfather', pero esta puede ser cualquier término de búesqueda\n",
    "# Para ejecutar la función desde otro equipo será necesario cambiar el valor de location por el de la ruta de los drivers de\n",
    "# selenium para Chrome\n",
    "location = 'C:/Users/alber/OneDrive/Desktop/chromedriver_win32/chromedriver.exe'\n",
    "MoviesSearch();\n",
    "MoviesSearch.data2csv (MoviesSearch.search_movie_info(location, 'godfather'));"
   ]
  },
  {
   "cell_type": "code",
   "execution_count": null,
   "metadata": {},
   "outputs": [],
   "source": []
  },
  {
   "cell_type": "code",
   "execution_count": null,
   "metadata": {},
   "outputs": [],
   "source": []
  }
 ],
 "metadata": {
  "kernelspec": {
   "display_name": "Python 3",
   "language": "python",
   "name": "python3"
  },
  "language_info": {
   "codemirror_mode": {
    "name": "ipython",
    "version": 3
   },
   "file_extension": ".py",
   "mimetype": "text/x-python",
   "name": "python",
   "nbconvert_exporter": "python",
   "pygments_lexer": "ipython3",
   "version": "3.7.3"
  }
 },
 "nbformat": 4,
 "nbformat_minor": 2
}
