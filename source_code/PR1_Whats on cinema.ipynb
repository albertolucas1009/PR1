{
 "cells": [
  {
   "cell_type": "code",
   "execution_count": 14,
   "metadata": {},
   "outputs": [
    {
     "ename": "ModuleNotFoundError",
     "evalue": "No module named 'selenium'",
     "output_type": "error",
     "traceback": [
      "\u001b[1;31m---------------------------------------------------------------------------\u001b[0m",
      "\u001b[1;31mModuleNotFoundError\u001b[0m                       Traceback (most recent call last)",
      "\u001b[1;32m<ipython-input-14-fdc0b021097e>\u001b[0m in \u001b[0;36m<module>\u001b[1;34m\u001b[0m\n\u001b[0;32m      4\u001b[0m \u001b[1;32mimport\u001b[0m \u001b[0margparse\u001b[0m\u001b[1;33m\u001b[0m\u001b[1;33m\u001b[0m\u001b[0m\n\u001b[0;32m      5\u001b[0m \u001b[1;32mimport\u001b[0m \u001b[0mcsv\u001b[0m\u001b[1;33m\u001b[0m\u001b[1;33m\u001b[0m\u001b[0m\n\u001b[1;32m----> 6\u001b[1;33m \u001b[1;32mfrom\u001b[0m \u001b[0mselenium\u001b[0m \u001b[1;32mimport\u001b[0m \u001b[0mwebdriver\u001b[0m\u001b[1;33m\u001b[0m\u001b[1;33m\u001b[0m\u001b[0m\n\u001b[0m\u001b[0;32m      7\u001b[0m \u001b[1;32mfrom\u001b[0m \u001b[0mbs4\u001b[0m \u001b[1;32mimport\u001b[0m \u001b[0mBeautifulSoup\u001b[0m\u001b[1;33m\u001b[0m\u001b[1;33m\u001b[0m\u001b[0m\n\u001b[0;32m      8\u001b[0m \u001b[1;32mfrom\u001b[0m \u001b[0mitertools\u001b[0m \u001b[1;32mimport\u001b[0m \u001b[0mzip_longest\u001b[0m\u001b[1;33m\u001b[0m\u001b[1;33m\u001b[0m\u001b[0m\n",
      "\u001b[1;31mModuleNotFoundError\u001b[0m: No module named 'selenium'"
     ]
    }
   ],
   "source": [
    "import requests\n",
    "import urllib.request\n",
    "import re\n",
    "import argparse\n",
    "import csv\n",
    "from bs4 import BeautifulSoup\n",
    "from itertools import zip_longest\n",
    "\n",
    "url = 'https://www.filmaffinity.com/uk/topcat.php?id=new_th_uk'\n",
    "\n",
    "response = urllib.request.urlopen(url)\n",
    "\n",
    "html = response.read()\n",
    "\n",
    "bs = BeautifulSoup(html, 'html.parser')\n",
    "\n",
    "table = bs.findAll('table', id='main-content-table')\n",
    "\n",
    "table = table [0]\n",
    "\n",
    "names = []\n",
    "directors = []\n",
    "casting = []\n",
    "genres = []\n",
    "ratings = []\n",
    "\n",
    "\n",
    "for row in table.find_all ('tr'):\n",
    "    \n",
    "    for cell in row.find_all ('td'):\n",
    "        \n",
    "        for title in cell.find_all ('div', {\"class\": \"mc-right\"}):\n",
    "            \n",
    "            data =title.h3\n",
    "            data = data.get_text()\n",
    "            names.append(data)\n",
    "            #print (names)\n",
    "            \n",
    "            director = title.find ('div', {\"class\": \"director\"})\n",
    "            director = director.get_text()\n",
    "            director = director.replace('\\n', '')\n",
    "            directors.append(director)\n",
    "            #print (director)\n",
    "            \n",
    "            cast = title.find ('div', {\"class\" : \"cast\"})\n",
    "            cast = cast.get_text()\n",
    "            cast = cast.replace('\\n', '')\n",
    "            casting.append(cast)\n",
    "            #print (cast)\n",
    "            \n",
    "            genre = title.find ('a', {\"class\" : \"genre\"})\n",
    "            genre = genre.get_text()\n",
    "            genres.append (genre)\n",
    "            #print (genre)\n",
    "            \n",
    "            rating = title.find ('div', {\"class\" : \"avg-rating\"})\n",
    "            rating = rating.get_text()\n",
    "            ratings.append (rating)\n",
    "            #print (rating)\n",
    "\n",
    "print (ratings)\n",
    "info = [names, directors, casting, genres, ratings]\n",
    "export_data = zip_longest(*info, fillvalue= '')\n",
    "\"\"\"\"\"\"\n",
    "\n",
    "with open ('cinema.csv', 'w', newline = '') as r:\n",
    "    wr = csv.writer(r)\n",
    "    wr.writerow(('Names', 'Directors', 'Cast', 'Genre', 'Rating'))\n",
    "    wr.writerows(export_data)\n",
    "r.close()\n",
    "        \n",
    "        "
   ]
  },
  {
   "cell_type": "code",
   "execution_count": null,
   "metadata": {},
   "outputs": [],
   "source": []
  },
  {
   "cell_type": "code",
   "execution_count": null,
   "metadata": {},
   "outputs": [],
   "source": []
  }
 ],
 "metadata": {
  "kernelspec": {
   "display_name": "Python 3",
   "language": "python",
   "name": "python3"
  },
  "language_info": {
   "codemirror_mode": {
    "name": "ipython",
    "version": 3
   },
   "file_extension": ".py",
   "mimetype": "text/x-python",
   "name": "python",
   "nbconvert_exporter": "python",
   "pygments_lexer": "ipython3",
   "version": "3.7.3"
  }
 },
 "nbformat": 4,
 "nbformat_minor": 2
}
