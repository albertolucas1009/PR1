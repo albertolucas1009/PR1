{
 "cells": [
  {
   "cell_type": "code",
   "execution_count": 9,
   "metadata": {},
   "outputs": [
    {
     "name": "stdout",
     "output_type": "stream",
     "text": [
      "['8.4', '8.2', '8.1', '7.7', '7.3', '7.0', '6.8', '6.7', '6.6', '6.4', '6.3', '6.3', '6.2', '6.2', '6.1', '6.1', '6.0', '6.0', '5.8', '5.7', '5.7', '5.6', '5.6', '5.5', '5.3', '4.8']\n"
     ]
    }
   ],
   "source": [
    "import requests\n",
    "import urllib.request\n",
    "import re\n",
    "import argparse\n",
    "import csv\n",
    "from bs4 import BeautifulSoup\n",
    "from itertools import zip_longest\n",
    "\n",
    "url = 'https://www.filmaffinity.com/uk/topcat.php?id=new_th_uk'\n",
    "\n",
    "reply = urllib.request.Request(url, data = None, headers = {\n",
    "    'User-agent': 'Mozilla/5.0 (Windows NT 10.0; Win64; x64) AppleWebKit/537.36 (KHTML, like Gecko) Chrome/78.0.3904.70 Safari/537.36'\n",
    "    })\n",
    "\n",
    "response = urllib.request.urlopen(url)\n",
    "\n",
    "html = response.read()\n",
    "\n",
    "\n",
    "# Utilizamos Beautiful Soup para realizar el scraping\n",
    "\n",
    "bs = BeautifulSoup(html, 'html.parser')\n",
    "\n",
    "table = bs.findAll('table', id='main-content-table')\n",
    "\n",
    "table = table [0]\n",
    "\n",
    "names = []\n",
    "directors = []\n",
    "casting = []\n",
    "genres = []\n",
    "ratings = []\n",
    "\n",
    "# Obtenemos la información de interés que está en una tabla\n",
    "for row in table.find_all ('tr'):\n",
    "    \n",
    "    for cell in row.find_all ('td'):\n",
    "        \n",
    "        for title in cell.find_all ('div', {\"class\": \"mc-right\"}):\n",
    "            \n",
    "            data =title.h3\n",
    "            data = data.get_text()\n",
    "            names.append(data)\n",
    "            #print (names)\n",
    "            \n",
    "            director = title.find ('div', {\"class\": \"director\"})\n",
    "            director = director.get_text()\n",
    "            director = director.replace('\\n', '')\n",
    "            directors.append(director)\n",
    "            #print (director)\n",
    "            \n",
    "            cast = title.find ('div', {\"class\" : \"cast\"})\n",
    "            cast = cast.get_text()\n",
    "            cast = cast.replace('\\n', '')\n",
    "            casting.append(cast)\n",
    "            #print (cast)\n",
    "            \n",
    "            genre = title.find ('a', {\"class\" : \"genre\"})\n",
    "            genre = genre.get_text()\n",
    "            genres.append (genre)\n",
    "            #print (genre)\n",
    "            \n",
    "            rating = title.find ('div', {\"class\" : \"avg-rating\"})\n",
    "            rating = rating.get_text()\n",
    "            ratings.append (rating)\n",
    "            #print (rating)\n",
    "\n",
    "\n",
    "info = [names, directors, casting, genres, ratings]\n",
    "export_data = zip_longest(*info, fillvalue= '')\n",
    "\n",
    "# Exportamos la información de interés a un archivo csv\n",
    "\n",
    "with open ('cinema.csv', 'w', newline = '') as r:\n",
    "    wr = csv.writer(r)\n",
    "    wr.writerow(('Names', 'Directors', 'Cast', 'Genre', 'Rating'))\n",
    "    wr.writerows(export_data)\n",
    "r.close()\n",
    "        \n",
    "        "
   ]
  },
  {
   "cell_type": "code",
   "execution_count": null,
   "metadata": {},
   "outputs": [],
   "source": []
  },
  {
   "cell_type": "code",
   "execution_count": null,
   "metadata": {},
   "outputs": [],
   "source": []
  }
 ],
 "metadata": {
  "kernelspec": {
   "display_name": "Python 3",
   "language": "python",
   "name": "python3"
  },
  "language_info": {
   "codemirror_mode": {
    "name": "ipython",
    "version": 3
   },
   "file_extension": ".py",
   "mimetype": "text/x-python",
   "name": "python",
   "nbconvert_exporter": "python",
   "pygments_lexer": "ipython3",
   "version": "3.7.3"
  }
 },
 "nbformat": 4,
 "nbformat_minor": 2
}
